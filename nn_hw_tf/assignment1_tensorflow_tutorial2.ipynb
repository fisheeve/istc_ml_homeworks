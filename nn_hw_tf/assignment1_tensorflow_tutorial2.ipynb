{
 "cells": [
  {
   "cell_type": "markdown",
   "metadata": {},
   "source": [
    "# MNIST master\n",
    "\n",
    "For a demo we shall solve the same digit recognition problem, but at a different scale\n",
    "* images are now 28x28\n",
    "* 10 different digits\n",
    "* 50k samples"
   ]
  },
  {
   "cell_type": "markdown",
   "metadata": {},
   "source": [
    "Before doing this homework, read some code examples written in tensorflow. There is a good repository with code examples: https://github.com/aymericdamien/TensorFlow-Examples. As we already know, we need many samples to learn :)"
   ]
  },
  {
   "cell_type": "code",
   "execution_count": 5,
   "metadata": {},
   "outputs": [],
   "source": [
    "import numpy as np\n",
    "import matplotlib.pyplot as plt\n",
    "%matplotlib inline"
   ]
  },
  {
   "cell_type": "code",
   "execution_count": 6,
   "metadata": {},
   "outputs": [],
   "source": [
    "import tensorflow as tf"
   ]
  },
  {
   "cell_type": "code",
   "execution_count": 7,
   "metadata": {},
   "outputs": [
    {
     "name": "stdout",
     "output_type": "stream",
     "text": [
      "(50000, 1, 28, 28) (50000,)\n"
     ]
    }
   ],
   "source": [
    "from mnist import load_dataset\n",
    "X_train,y_train,X_val,y_val,X_test,y_test = load_dataset()\n",
    "\n",
    "print(X_train.shape,y_train.shape)"
   ]
  },
  {
   "cell_type": "code",
   "execution_count": 8,
   "metadata": {},
   "outputs": [
    {
     "data": {
      "text/plain": [
       "(50000, 1, 28, 28)"
      ]
     },
     "execution_count": 8,
     "metadata": {},
     "output_type": "execute_result"
    }
   ],
   "source": [
    "X_train.shape"
   ]
  },
  {
   "cell_type": "code",
   "execution_count": 9,
   "metadata": {},
   "outputs": [
    {
     "data": {
      "text/plain": [
       "4"
      ]
     },
     "execution_count": 9,
     "metadata": {},
     "output_type": "execute_result"
    },
    {
     "data": {
      "image/png": "[encoded data removed]",
      "text/plain": [
       "<Figure size 432x288 with 1 Axes>"
      ]
     },
     "metadata": {
      "needs_background": "light"
     },
     "output_type": "display_data"
    }
   ],
   "source": [
    "plt.imshow(-X_train[20, 0], cmap=\"jet\")\n",
    "y_train[20]"
   ]
  },
  {
   "cell_type": "code",
   "execution_count": 10,
   "metadata": {},
   "outputs": [],
   "source": [
    "#defining placeholders for input and target\n",
    "input_X = tf.placeholder(tf.float32, shape=[None, 1, 28, 28], \n",
    "                         name=\"X\")\n",
    "target_y = tf.placeholder(tf.int32, shape=[None], \n",
    "                          name=\"target_Y_integer\")"
   ]
  },
  {
   "cell_type": "markdown",
   "metadata": {},
   "source": [
    "Defining network architecture"
   ]
  },
  {
   "cell_type": "code",
   "execution_count": 11,
   "metadata": {},
   "outputs": [
    {
     "name": "stderr",
     "output_type": "stream",
     "text": [
      "WARNING: Logging before flag parsing goes to stderr.\n",
      "W0725 20:23:15.447592 140157600978752 deprecation.py:323] From <ipython-input-11-a5078e2faa23>:8: conv2d (from tensorflow.python.layers.convolutional) is deprecated and will be removed in a future version.\n",
      "Instructions for updating:\n",
      "Use `tf.keras.layers.Conv2D` instead.\n",
      "W0725 20:23:15.450428 140157600978752 deprecation.py:506] From /home/yeva/anaconda3/lib/python3.7/site-packages/tensorflow/python/ops/init_ops.py:1251: calling VarianceScaling.__init__ (from tensorflow.python.ops.init_ops) with dtype is deprecated and will be removed in a future version.\n",
      "Instructions for updating:\n",
      "Call initializer instance with the dtype argument instead of passing it to the constructor\n",
      "W0725 20:23:15.627611 140157600978752 deprecation.py:323] From <ipython-input-11-a5078e2faa23>:11: max_pooling2d (from tensorflow.python.layers.pooling) is deprecated and will be removed in a future version.\n",
      "Instructions for updating:\n",
      "Use keras.layers.MaxPooling2D instead.\n",
      "W0725 20:23:15.743550 140157600978752 deprecation.py:323] From <ipython-input-11-a5078e2faa23>:24: dense (from tensorflow.python.layers.core) is deprecated and will be removed in a future version.\n",
      "Instructions for updating:\n",
      "Use keras.layers.dense instead.\n"
     ]
    },
    {
     "name": "stdout",
     "output_type": "stream",
     "text": [
      "(?, 28, 28, 32)\n",
      "(?, 14, 14, 32)\n",
      "(?, 14, 14, 64)\n",
      "(?, 7, 7, 64)\n"
     ]
    },
    {
     "name": "stderr",
     "output_type": "stream",
     "text": [
      "W0725 20:23:15.970976 140157600978752 deprecation.py:323] From <ipython-input-11-a5078e2faa23>:26: dropout (from tensorflow.python.layers.core) is deprecated and will be removed in a future version.\n",
      "Instructions for updating:\n",
      "Use keras.layers.dropout instead.\n"
     ]
    }
   ],
   "source": [
    "mode=True\n",
    "# flatten images to (batch_size x 728) matrix\n",
    "input_X_reshaped = tf.reshape(input_X, shape=[-1, 1*28*28], \n",
    "                              name=\"reshape_X\")\n",
    "\n",
    "\n",
    "h1 = tf.layers.conv2d(tf.reshape(input_X, shape=[-1,28,28,1]), filters=32, kernel_size=[5,5], \n",
    "                     padding=\"same\", activation=tf.nn.relu)\n",
    "print(np.shape(h1))\n",
    "\n",
    "h2 = tf.layers.max_pooling2d(h1, pool_size=2, strides=2)\n",
    "\n",
    "print(np.shape(h2))\n",
    "\n",
    "\n",
    "h3 = tf.layers.conv2d(h2, filters=64, kernel_size = [5,5],\n",
    "                     padding='same', activation=tf.nn.relu)\n",
    "print(np.shape(h3))\n",
    "\n",
    "h4 = tf.layers.max_pooling2d(h3, pool_size=2, strides=2)\n",
    "\n",
    "print(np.shape(h4))\n",
    "\n",
    "h5 = tf.layers.dense(tf.reshape(h4, shape=[-1,3136]), units=1024, activation=None)\n",
    "\n",
    "h6 = tf.layers.dropout(h5, rate=0.4, training=mode)\n",
    "\n",
    "h7 = tf.nn.relu(h6)\n",
    "\n",
    "# 10 neurons (1 for each digit).\n",
    "# This predicts scores for the classes\n",
    "l2 = tf.layers.dense(h7, units=10, activation=None)\n",
    "\n",
    "\n",
    "# We use softmax nonlinearity to make probabilities add up to 1\n",
    "l_out = tf.nn.softmax(l2)\n",
    "\n",
    "# Prediction\n",
    "y_predicted = tf.argmax(l2, axis=-1)"
   ]
  },
  {
   "cell_type": "code",
   "execution_count": 12,
   "metadata": {},
   "outputs": [
    {
     "data": {
      "text/plain": [
       "[<tf.Variable 'conv2d/kernel:0' shape=(5, 5, 1, 32) dtype=float32_ref>,\n",
       " <tf.Variable 'conv2d/bias:0' shape=(32,) dtype=float32_ref>,\n",
       " <tf.Variable 'conv2d_1/kernel:0' shape=(5, 5, 32, 64) dtype=float32_ref>,\n",
       " <tf.Variable 'conv2d_1/bias:0' shape=(64,) dtype=float32_ref>,\n",
       " <tf.Variable 'dense/kernel:0' shape=(3136, 1024) dtype=float32_ref>,\n",
       " <tf.Variable 'dense/bias:0' shape=(1024,) dtype=float32_ref>,\n",
       " <tf.Variable 'dense_1/kernel:0' shape=(1024, 10) dtype=float32_ref>,\n",
       " <tf.Variable 'dense_1/bias:0' shape=(10,) dtype=float32_ref>]"
      ]
     },
     "execution_count": 12,
     "metadata": {},
     "output_type": "execute_result"
    }
   ],
   "source": [
    "weights = tf.trainable_variables()\n",
    "weights"
   ]
  },
  {
   "cell_type": "markdown",
   "metadata": {},
   "source": [
    "### Than you could simply\n",
    "* define loss function manually\n",
    "* compute error gradient over all weights\n",
    "* define updates\n",
    "* But that's a whole lot of work and life's short\n",
    "  * not to mention life's too short to wait for SGD to converge\n",
    "\n",
    "Instead, we shall use Tensorflow builtins"
   ]
  },
  {
   "cell_type": "code",
   "execution_count": 13,
   "metadata": {},
   "outputs": [],
   "source": [
    "# Mean categorical crossentropy as a loss function\n",
    "# - similar to logistic loss but for multiclass targets\n",
    "loss = tf.reduce_mean(tf.nn.sparse_softmax_cross_entropy_with_logits(\n",
    "    labels=target_y, logits=l2, name=\"softmax_loss\"))"
   ]
  },
  {
   "cell_type": "code",
   "execution_count": 14,
   "metadata": {},
   "outputs": [
    {
     "data": {
      "text/plain": [
       "[<tf.Variable 'accuracy/total:0' shape=() dtype=float32_ref>,\n",
       " <tf.Variable 'accuracy/count:0' shape=() dtype=float32_ref>]"
      ]
     },
     "execution_count": 14,
     "metadata": {},
     "output_type": "execute_result"
    }
   ],
   "source": [
    "accuracy, update_accuracy = tf.metrics.accuracy(target_y, y_predicted)\n",
    "tf.local_variables()"
   ]
  },
  {
   "cell_type": "code",
   "execution_count": 15,
   "metadata": {},
   "outputs": [],
   "source": [
    "optimzer = tf.train.GradientDescentOptimizer(learning_rate=0.09)\n",
    "train_step = optimzer.minimize(loss)"
   ]
  },
  {
   "cell_type": "markdown",
   "metadata": {},
   "source": [
    "### That's all, now let's train it!\n",
    "* We got a lot of data, so it's recommended that you use SGD\n",
    "* So let's implement a function that splits the training sample into minibatches"
   ]
  },
  {
   "cell_type": "code",
   "execution_count": 16,
   "metadata": {},
   "outputs": [],
   "source": [
    "# An auxilary function that returns mini-batches for neural network training\n",
    "\n",
    "#Parameters\n",
    "# inputs - a tensor of images with shape (many, 1, 28, 28), e.g. X_train\n",
    "# outputs - a vector of answers for corresponding images e.g. Y_train\n",
    "#batch_size - a single number - the intended size of each batches\n",
    "\n",
    "def iterate_minibatches(inputs, targets, batchsize):\n",
    "    assert len(inputs) == len(targets)\n",
    "    indices = np.arange(len(inputs))\n",
    "    np.random.shuffle(indices)\n",
    "    for start_idx in range(0, len(inputs) - batchsize + 1, batchsize):\n",
    "        excerpt = indices[start_idx:start_idx + batchsize]\n",
    "        yield inputs[excerpt], targets[excerpt]"
   ]
  },
  {
   "cell_type": "markdown",
   "metadata": {},
   "source": [
    "# Training loop"
   ]
  },
  {
   "cell_type": "markdown",
   "metadata": {},
   "source": [
    "Model saver.\n",
    "<br>\n",
    "See more:\n",
    "http://cv-tricks.com/tensorflow-tutorial/save-restore-tensorflow-models-quick-complete-tutorial/"
   ]
  },
  {
   "cell_type": "code",
   "execution_count": null,
   "metadata": {},
   "outputs": [],
   "source": [
    "model_path = \"./checkpoints/model.ckpt\"\n",
    "saver = tf.train.Saver(max_to_keep=3)"
   ]
  },
  {
   "cell_type": "code",
   "execution_count": null,
   "metadata": {
    "scrolled": true
   },
   "outputs": [],
   "source": [
    "import time\n",
    "\n",
    "num_epochs = 100 # amount of passes through the data\n",
    "\n",
    "batch_size = 50 # number of samples processed at each function call\n",
    "\n",
    "with tf.Session() as sess:\n",
    "    # initialize global wariables\n",
    "    sess.run(tf.global_variables_initializer())\n",
    "    \n",
    "    for epoch in range(num_epochs):\n",
    "        # In each epoch, we do a full pass over the training data:\n",
    "        train_err = 0\n",
    "        train_batches = 0\n",
    "        start_time = time.time()\n",
    "\n",
    "        sess.run(tf.local_variables_initializer())\n",
    "        for batch in iterate_minibatches(X_train, y_train,batch_size):\n",
    "            inputs, targets = batch\n",
    "\n",
    "            _, train_err_batch, _ = sess.run(\n",
    "                [train_step, loss, update_accuracy], \n",
    "                feed_dict={input_X: inputs, target_y:targets}\n",
    "            )\n",
    "            train_err += train_err_batch\n",
    "            train_batches += 1\n",
    "        train_acc = sess.run(accuracy)\n",
    "\n",
    "        # And a full pass over the validation data:\n",
    "        sess.run(tf.local_variables_initializer())\n",
    "        for batch in iterate_minibatches(X_val, y_val, batch_size):\n",
    "            inputs, targets = batch\n",
    "            sess.run(update_accuracy, feed_dict={input_X: inputs, \n",
    "                                                 target_y:targets})\n",
    "        val_acc = sess.run(accuracy)\n",
    "\n",
    "\n",
    "        # Then we print the results for this epoch:\n",
    "        print(\"Epoch {} of {} took {:.3f}s\".format(\n",
    "            epoch + 1, num_epochs, time.time() - start_time))\n",
    "\n",
    "        print(\"  training loss (in-iteration):\\t\\t{:.6f}\".format(train_err / train_batches))\n",
    "        print(\"  train accuracy:\\t\\t{:.2f} %\".format(\n",
    "            train_acc * 100))\n",
    "        print(\"  validation accuracy:\\t\\t{:.2f} %\".format(\n",
    "            val_acc * 100))\n",
    "        \n",
    "        # save model\n",
    "        save_path = saver.save(sess, model_path, global_step=epoch)\n",
    "        print(\"  Model saved in file: %s\" % save_path)"
   ]
  },
  {
   "cell_type": "markdown",
   "metadata": {},
   "source": [
    "Now we can restore saved parameters:"
   ]
  },
  {
   "cell_type": "code",
   "execution_count": null,
   "metadata": {},
   "outputs": [],
   "source": [
    "mode=False\n",
    "with tf.Session() as sess:\n",
    "    sess.run(tf.global_variables_initializer())\n",
    "    load_path = saver.restore(sess, saver.last_checkpoints[-1])\n",
    "    print(\"Model restored from file: %s\" % save_path)\n",
    "    \n",
    "    sess.run(tf.local_variables_initializer())\n",
    "    for batch in iterate_minibatches(X_test, y_test, 500):\n",
    "        inputs, targets = batch\n",
    "        sess.run(update_accuracy, feed_dict={input_X: inputs, \n",
    "                                                   target_y:targets})\n",
    "    test_acc = sess.run(accuracy)\n",
    "    print(\"Final results:\")\n",
    "    print(\"  test accuracy:\\t\\t{:.2f} %\".format(\n",
    "        test_acc* 100))\n",
    "\n",
    "    if test_acc * 100 > 99.5:\n",
    "        print (\"Achievement unlocked: 80lvl Warlock!\")\n",
    "    else:\n",
    "        print (\"We need more magic!\")"
   ]
  },
  {
   "cell_type": "markdown",
   "metadata": {
    "collapsed": true
   },
   "source": [
    "# Now improve it!\n",
    "\n",
    "* Moar layers!\n",
    "* Moar units!\n",
    "* Different nonlinearities!"
   ]
  },
  {
   "cell_type": "code",
   "execution_count": null,
   "metadata": {},
   "outputs": [],
   "source": []
  }
 ],
 "metadata": {
  "kernelspec": {
   "display_name": "Python 3",
   "language": "python",
   "name": "python3"
  },
  "language_info": {
   "codemirror_mode": {
    "name": "ipython",
    "version": 3
   },
   "file_extension": ".py",
   "mimetype": "text/x-python",
   "name": "python",
   "nbconvert_exporter": "python",
   "pygments_lexer": "ipython3",
   "version": "3.7.3"
  }
 },
 "nbformat": 4,
 "nbformat_minor": 1
}
